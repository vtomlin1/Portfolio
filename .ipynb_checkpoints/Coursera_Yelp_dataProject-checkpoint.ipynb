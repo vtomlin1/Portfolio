{
 "cells": [
  {
   "cell_type": "markdown",
   "id": "c5846aeb-a0cd-469f-a737-f4900050d195",
   "metadata": {},
   "source": [
    "<div style = \"text-align:center\">\n",
    "    <h1>Project Idea</h1>\n",
    "</div>\n",
    "\n",
    "\n",
    "Try using the data from the coursera *sql for data science* course.\n",
    "\n",
    "Try getting a sql file to import the data."
   ]
  },
  {
   "cell_type": "code",
   "execution_count": 2,
   "id": "bafc3d3f-e3e7-4d2a-9c84-405f97f1a0e1",
   "metadata": {
    "tags": []
   },
   "outputs": [],
   "source": [
    "import numpy as np\n",
    "import pandas as pd\n",
    "import tensorflow as tf"
   ]
  },
  {
   "cell_type": "code",
   "execution_count": null,
   "id": "cd92c986-db66-4524-87d7-46e74f815bc0",
   "metadata": {},
   "outputs": [],
   "source": []
  }
 ],
 "metadata": {
  "kernelspec": {
   "display_name": "Python 3 (ipykernel)",
   "language": "python",
   "name": "python3"
  },
  "language_info": {
   "codemirror_mode": {
    "name": "ipython",
    "version": 3
   },
   "file_extension": ".py",
   "mimetype": "text/x-python",
   "name": "python",
   "nbconvert_exporter": "python",
   "pygments_lexer": "ipython3",
   "version": "3.11.2"
  }
 },
 "nbformat": 4,
 "nbformat_minor": 5
}
