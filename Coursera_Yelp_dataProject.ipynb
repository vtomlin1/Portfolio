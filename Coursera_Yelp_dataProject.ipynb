{
 "cells": [
  {
   "cell_type": "markdown",
   "id": "c5846aeb-a0cd-469f-a737-f4900050d195",
   "metadata": {},
   "source": [
    "<div style = \"text-align:center\">\n",
    "    <h1>Project Idea</h1>\n",
    "</div>\n",
    "\n",
    "\n",
    "Try using the data from the coursera *sql for data science* course.\n",
    "\n",
    "Try getting a sql file to import the data."
   ]
  },
  {
   "cell_type": "code",
   "execution_count": 2,
   "id": "bafc3d3f-e3e7-4d2a-9c84-405f97f1a0e1",
   "metadata": {
    "tags": []
   },
   "outputs": [],
   "source": [
    "import numpy as np\n",
    "import pandas as pd\n",
    "import tensorflow as tf"
   ]
  },
  {
   "cell_type": "code",
   "execution_count": 4,
   "id": "cd92c986-db66-4524-87d7-46e74f815bc0",
   "metadata": {},
   "outputs": [
    {
     "name": "stdout",
     "output_type": "stream",
     "text": [
      "Cool\n"
     ]
    }
   ],
   "source": [
    "\"\"\"\n",
    "Some MySQL code:\n",
    "SELECT  \n",
    "a.Name as \"Artist\",\n",
    "Title as \"Album\",\n",
    "m.Name as \"Media\",\n",
    "g.Name as \"Genre\"\n",
    "\n",
    "#Examples of JOINs\n",
    "#Database is called \"Chinook\"\n",
    "\n",
    "FROM Chinook.Albums A\n",
    "    Left join Chinook.Artists a\n",
    "    on A.ArtistId = a.ArtistId\n",
    "    Left join Chinook.Genres g\n",
    "    on A.ArtistId = g.GenreId\n",
    "    left join Chinook.MediaType m\n",
    "    on A.ArtistId = m.MediaTypeId\n",
    "\n",
    "order by a.Name ASC\n",
    "\n",
    "#Put the query into a .csv file\n",
    "\n",
    "into outfile '/home/coder/project/Simple.csv'\n",
    "FIELDS TERMINATED BY ','\n",
    "ENCLOSED BY '\"'\n",
    "LINES TERMINATED BY '\\n';\n",
    "\"\"\"\n",
    "\n",
    "print(\"Cool\")"
   ]
  }
 ],
 "metadata": {
  "kernelspec": {
   "display_name": "Python 3 (ipykernel)",
   "language": "python",
   "name": "python3"
  },
  "language_info": {
   "codemirror_mode": {
    "name": "ipython",
    "version": 3
   },
   "file_extension": ".py",
   "mimetype": "text/x-python",
   "name": "python",
   "nbconvert_exporter": "python",
   "pygments_lexer": "ipython3",
   "version": "3.11.2"
  }
 },
 "nbformat": 4,
 "nbformat_minor": 5
}
