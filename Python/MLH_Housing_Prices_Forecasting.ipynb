{
 "cells": [
  {
   "cell_type": "markdown",
   "id": "c5846aeb-a0cd-469f-a737-f4900050d195",
   "metadata": {},
   "source": [
    "<div style = \"text-align:center\">\n",
    "    <h1>Housing Forecast</h1>\n",
    "</div>"
   ]
  },
  {
   "cell_type": "code",
   "execution_count": 5,
   "id": "cd92c986-db66-4524-87d7-46e74f815bc0",
   "metadata": {},
   "outputs": [],
   "source": [
    "import pandas as pd\n",
    "import matplotlib.pyplot as plt\n",
    "import numpy as np\n",
    "import seaborn as sns"
   ]
  },
  {
   "cell_type": "code",
   "execution_count": 2,
   "id": "a9fcd1f4",
   "metadata": {},
   "outputs": [],
   "source": [
    "train = pd.read_csv('train.csv')\n",
    "test = pd.read_csv('test.csv')"
   ]
  },
  {
   "cell_type": "code",
   "execution_count": 3,
   "id": "9894d54b",
   "metadata": {},
   "outputs": [
    {
     "data": {
      "text/html": [
       "<div>\n",
       "<style scoped>\n",
       "    .dataframe tbody tr th:only-of-type {\n",
       "        vertical-align: middle;\n",
       "    }\n",
       "\n",
       "    .dataframe tbody tr th {\n",
       "        vertical-align: top;\n",
       "    }\n",
       "\n",
       "    .dataframe thead th {\n",
       "        text-align: right;\n",
       "    }\n",
       "</style>\n",
       "<table border=\"1\" class=\"dataframe\">\n",
       "  <thead>\n",
       "    <tr style=\"text-align: right;\">\n",
       "      <th></th>\n",
       "      <th>id</th>\n",
       "      <th>zipcode</th>\n",
       "      <th>city</th>\n",
       "      <th>state</th>\n",
       "      <th>dateSold</th>\n",
       "      <th>bathrooms</th>\n",
       "      <th>bedrooms</th>\n",
       "      <th>livingArea</th>\n",
       "      <th>homeType</th>\n",
       "      <th>homeStatus</th>\n",
       "      <th>lotArea</th>\n",
       "      <th>lotUnit</th>\n",
       "      <th>address</th>\n",
       "    </tr>\n",
       "  </thead>\n",
       "  <tbody>\n",
       "    <tr>\n",
       "      <th>0</th>\n",
       "      <td>22805</td>\n",
       "      <td>19970.0</td>\n",
       "      <td>Ocean View</td>\n",
       "      <td>DE</td>\n",
       "      <td>1.641283e+12</td>\n",
       "      <td>4.0</td>\n",
       "      <td>5.0</td>\n",
       "      <td>4100.0</td>\n",
       "      <td>SINGLE_FAMILY</td>\n",
       "      <td>RECENTLY_SOLD</td>\n",
       "      <td>10454.40</td>\n",
       "      <td>sqft</td>\n",
       "      <td>37150 Lord Baltimore Ln, Ocean View, DE 19970</td>\n",
       "    </tr>\n",
       "    <tr>\n",
       "      <th>1</th>\n",
       "      <td>18392</td>\n",
       "      <td>27704.0</td>\n",
       "      <td>Durham</td>\n",
       "      <td>NC</td>\n",
       "      <td>1.641542e+12</td>\n",
       "      <td>3.0</td>\n",
       "      <td>4.0</td>\n",
       "      <td>2055.0</td>\n",
       "      <td>SINGLE_FAMILY</td>\n",
       "      <td>RECENTLY_SOLD</td>\n",
       "      <td>0.29</td>\n",
       "      <td>acres</td>\n",
       "      <td>2011 Woodview Dr, Durham, NC 27704</td>\n",
       "    </tr>\n",
       "    <tr>\n",
       "      <th>2</th>\n",
       "      <td>15215</td>\n",
       "      <td>20733.0</td>\n",
       "      <td>Churchton</td>\n",
       "      <td>MD</td>\n",
       "      <td>1.641542e+12</td>\n",
       "      <td>2.0</td>\n",
       "      <td>3.0</td>\n",
       "      <td>1530.0</td>\n",
       "      <td>SINGLE_FAMILY</td>\n",
       "      <td>RECENTLY_SOLD</td>\n",
       "      <td>4791.60</td>\n",
       "      <td>sqft</td>\n",
       "      <td>1109 Wildwood Ln, Churchton, MD 20733</td>\n",
       "    </tr>\n",
       "    <tr>\n",
       "      <th>3</th>\n",
       "      <td>20235</td>\n",
       "      <td>33064.0</td>\n",
       "      <td>Pompano Beach</td>\n",
       "      <td>FL</td>\n",
       "      <td>1.641370e+12</td>\n",
       "      <td>1.0</td>\n",
       "      <td>3.0</td>\n",
       "      <td>744.0</td>\n",
       "      <td>SINGLE_FAMILY</td>\n",
       "      <td>RECENTLY_SOLD</td>\n",
       "      <td>6120.00</td>\n",
       "      <td>sqft</td>\n",
       "      <td>3130 NE 12th Ave, Pompano Beach, FL 33064</td>\n",
       "    </tr>\n",
       "    <tr>\n",
       "      <th>4</th>\n",
       "      <td>13810</td>\n",
       "      <td>6239.0</td>\n",
       "      <td>Killingly</td>\n",
       "      <td>CT</td>\n",
       "      <td>1.640851e+12</td>\n",
       "      <td>3.0</td>\n",
       "      <td>6.0</td>\n",
       "      <td>4166.0</td>\n",
       "      <td>SINGLE_FAMILY</td>\n",
       "      <td>RECENTLY_SOLD</td>\n",
       "      <td>37.00</td>\n",
       "      <td>sqft</td>\n",
       "      <td>235 Ross Rd, Killingly, CT 06239</td>\n",
       "    </tr>\n",
       "  </tbody>\n",
       "</table>\n",
       "</div>"
      ],
      "text/plain": [
       "      id  zipcode           city state      dateSold  bathrooms  bedrooms  \\\n",
       "0  22805  19970.0     Ocean View    DE  1.641283e+12        4.0       5.0   \n",
       "1  18392  27704.0         Durham    NC  1.641542e+12        3.0       4.0   \n",
       "2  15215  20733.0      Churchton    MD  1.641542e+12        2.0       3.0   \n",
       "3  20235  33064.0  Pompano Beach    FL  1.641370e+12        1.0       3.0   \n",
       "4  13810   6239.0      Killingly    CT  1.640851e+12        3.0       6.0   \n",
       "\n",
       "   livingArea       homeType     homeStatus   lotArea lotUnit  \\\n",
       "0      4100.0  SINGLE_FAMILY  RECENTLY_SOLD  10454.40    sqft   \n",
       "1      2055.0  SINGLE_FAMILY  RECENTLY_SOLD      0.29   acres   \n",
       "2      1530.0  SINGLE_FAMILY  RECENTLY_SOLD   4791.60    sqft   \n",
       "3       744.0  SINGLE_FAMILY  RECENTLY_SOLD   6120.00    sqft   \n",
       "4      4166.0  SINGLE_FAMILY  RECENTLY_SOLD     37.00    sqft   \n",
       "\n",
       "                                         address  \n",
       "0  37150 Lord Baltimore Ln, Ocean View, DE 19970  \n",
       "1             2011 Woodview Dr, Durham, NC 27704  \n",
       "2          1109 Wildwood Ln, Churchton, MD 20733  \n",
       "3      3130 NE 12th Ave, Pompano Beach, FL 33064  \n",
       "4               235 Ross Rd, Killingly, CT 06239  "
      ]
     },
     "execution_count": 3,
     "metadata": {},
     "output_type": "execute_result"
    }
   ],
   "source": [
    "test.head()"
   ]
  },
  {
   "cell_type": "code",
   "execution_count": 4,
   "id": "0089c6a9",
   "metadata": {},
   "outputs": [
    {
     "data": {
      "text/plain": [
       "Index(['id', 'zipcode', 'city', 'state', 'dateSold', 'bathrooms', 'bedrooms',\n",
       "       'livingArea', 'homeType', 'homeStatus', 'lotArea', 'lotUnit', 'address',\n",
       "       'price'],\n",
       "      dtype='object')"
      ]
     },
     "execution_count": 4,
     "metadata": {},
     "output_type": "execute_result"
    }
   ],
   "source": [
    "train.columns"
   ]
  },
  {
   "cell_type": "markdown",
   "id": "7c694b14",
   "metadata": {},
   "source": [
    "Playing with Functions."
   ]
  },
  {
   "cell_type": "code",
   "execution_count": 6,
   "id": "a6dda2bd",
   "metadata": {},
   "outputs": [],
   "source": [
    "#Testing recursion\n",
    "#Should return the nth fibonacci number (1, 1, 2, 3, 5, 8, 13, etc)\n",
    "def fibonacci(n):\n",
    "    if n == 1 or n == 0:\n",
    "        return 1\n",
    "    else:\n",
    "        return fibonacci(n - 1) + fibonacci(n - 2)\n"
   ]
  },
  {
   "cell_type": "code",
   "execution_count": 9,
   "id": "a1330fc7",
   "metadata": {},
   "outputs": [
    {
     "data": {
      "text/plain": [
       "10946"
      ]
     },
     "execution_count": 9,
     "metadata": {},
     "output_type": "execute_result"
    }
   ],
   "source": [
    "fibonacci(20)"
   ]
  },
  {
   "cell_type": "markdown",
   "id": "b639a734",
   "metadata": {},
   "source": [
    "Playing with some plotting."
   ]
  },
  {
   "cell_type": "code",
   "execution_count": 15,
   "id": "4b7db1c8",
   "metadata": {},
   "outputs": [],
   "source": [
    "#Playing with plotting\n",
    "\n",
    "x = np.random.normal(size=100)\n",
    "y = np.random.normal(size=100)\n",
    "\n",
    "xp = np.random.normal(loc=2, scale=1.5, size=100)\n",
    "yp = np.random.normal(loc=2, size=100)"
   ]
  },
  {
   "cell_type": "code",
   "execution_count": 13,
   "id": "b319515a",
   "metadata": {},
   "outputs": [
    {
     "data": {
      "text/plain": [
       "(array([ 1.,  3., 11., 15., 20., 23., 11.,  9.,  5.,  2.]),\n",
       " array([-2.70137457, -2.14594308, -1.5905116 , -1.03508011, -0.47964863,\n",
       "         0.07578285,  0.63121434,  1.18664582,  1.74207731,  2.29750879,\n",
       "         2.85294028]),\n",
       " <BarContainer object of 10 artists>)"
      ]
     },
     "execution_count": 13,
     "metadata": {},
     "output_type": "execute_result"
    },
    {
     "data": {
      "image/png": "[encoded data removed]",
      "text/plain": [
       "<Figure size 640x480 with 1 Axes>"
      ]
     },
     "metadata": {},
     "output_type": "display_data"
    }
   ],
   "source": [
    "plt.hist(x)\n",
    "plt.hist(y)"
   ]
  },
  {
   "cell_type": "code",
   "execution_count": 23,
   "id": "7f53b053",
   "metadata": {},
   "outputs": [
    {
     "data": {
      "text/plain": [
       "Text(0.5, 0, 'X axis')"
      ]
     },
     "execution_count": 23,
     "metadata": {},
     "output_type": "execute_result"
    },
    {
     "data": {
      "image/png": "[encoded data removed]",
      "text/plain": [
       "<Figure size 640x480 with 1 Axes>"
      ]
     },
     "metadata": {},
     "output_type": "display_data"
    }
   ],
   "source": [
    "plt.scatter(x,y)\n",
    "plt.scatter(xp, yp, c= 'red')\n",
    "plt.title('Red vs Blue', fontdict={'size':40})\n",
    "plt.ylabel('Y axis')\n",
    "plt.xlabel('X axis')"
   ]
  },
  {
   "cell_type": "code",
   "execution_count": null,
   "id": "2319a2c4",
   "metadata": {},
   "outputs": [],
   "source": []
  }
 ],
 "metadata": {
  "kernelspec": {
   "display_name": "Python 3 (ipykernel)",
   "language": "python",
   "name": "python3"
  },
  "language_info": {
   "codemirror_mode": {
    "name": "ipython",
    "version": 3
   },
   "file_extension": ".py",
   "mimetype": "text/x-python",
   "name": "python",
   "nbconvert_exporter": "python",
   "pygments_lexer": "ipython3",
   "version": "3.11.2"
  }
 },
 "nbformat": 4,
 "nbformat_minor": 5
}
