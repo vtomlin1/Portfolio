{
 "cells": [
  {
   "cell_type": "markdown",
   "id": "c5846aeb-a0cd-469f-a737-f4900050d195",
   "metadata": {},
   "source": [
    "<div style = \"text-align:center\">\n",
    "    <h1>Housing Forecast</h1>\n",
    "</div>"
   ]
  },
  {
   "cell_type": "markdown",
   "id": "ebde5b27",
   "metadata": {},
   "source": [
    "Notes:\n",
    "- Predict the prices of houses that haven't been sold yet."
   ]
  },
  {
   "cell_type": "code",
   "execution_count": 2,
   "id": "cd92c986-db66-4524-87d7-46e74f815bc0",
   "metadata": {},
   "outputs": [],
   "source": [
    "import pandas as pd\n",
    "import matplotlib.pyplot as plt\n",
    "import numpy as np\n",
    "import seaborn as sns"
   ]
  },
  {
   "cell_type": "code",
   "execution_count": 3,
   "id": "a9fcd1f4",
   "metadata": {},
   "outputs": [],
   "source": [
    "train = pd.read_csv('train.csv')\n",
    "test = pd.read_csv('test.csv')"
   ]
  },
  {
   "cell_type": "markdown",
   "id": "adc84b27",
   "metadata": {},
   "source": [
    "# Exploring and cleaning the data\n",
    "\n",
    "This section here is exploratory data analysis. We want to understand the data before we manipulate anything. Data cleaning. "
   ]
  },
  {
   "cell_type": "code",
   "execution_count": 4,
   "id": "9894d54b",
   "metadata": {},
   "outputs": [
    {
     "data": {
      "text/html": [
       "<div>\n",
       "<style scoped>\n",
       "    .dataframe tbody tr th:only-of-type {\n",
       "        vertical-align: middle;\n",
       "    }\n",
       "\n",
       "    .dataframe tbody tr th {\n",
       "        vertical-align: top;\n",
       "    }\n",
       "\n",
       "    .dataframe thead th {\n",
       "        text-align: right;\n",
       "    }\n",
       "</style>\n",
       "<table border=\"1\" class=\"dataframe\">\n",
       "  <thead>\n",
       "    <tr style=\"text-align: right;\">\n",
       "      <th></th>\n",
       "      <th>id</th>\n",
       "      <th>zipcode</th>\n",
       "      <th>city</th>\n",
       "      <th>state</th>\n",
       "      <th>dateSold</th>\n",
       "      <th>bathrooms</th>\n",
       "      <th>bedrooms</th>\n",
       "      <th>livingArea</th>\n",
       "      <th>homeType</th>\n",
       "      <th>homeStatus</th>\n",
       "      <th>lotArea</th>\n",
       "      <th>lotUnit</th>\n",
       "      <th>address</th>\n",
       "    </tr>\n",
       "  </thead>\n",
       "  <tbody>\n",
       "    <tr>\n",
       "      <th>0</th>\n",
       "      <td>22805</td>\n",
       "      <td>19970.0</td>\n",
       "      <td>Ocean View</td>\n",
       "      <td>DE</td>\n",
       "      <td>1.641283e+12</td>\n",
       "      <td>4.0</td>\n",
       "      <td>5.0</td>\n",
       "      <td>4100.0</td>\n",
       "      <td>SINGLE_FAMILY</td>\n",
       "      <td>RECENTLY_SOLD</td>\n",
       "      <td>10454.40</td>\n",
       "      <td>sqft</td>\n",
       "      <td>37150 Lord Baltimore Ln, Ocean View, DE 19970</td>\n",
       "    </tr>\n",
       "    <tr>\n",
       "      <th>1</th>\n",
       "      <td>18392</td>\n",
       "      <td>27704.0</td>\n",
       "      <td>Durham</td>\n",
       "      <td>NC</td>\n",
       "      <td>1.641542e+12</td>\n",
       "      <td>3.0</td>\n",
       "      <td>4.0</td>\n",
       "      <td>2055.0</td>\n",
       "      <td>SINGLE_FAMILY</td>\n",
       "      <td>RECENTLY_SOLD</td>\n",
       "      <td>0.29</td>\n",
       "      <td>acres</td>\n",
       "      <td>2011 Woodview Dr, Durham, NC 27704</td>\n",
       "    </tr>\n",
       "    <tr>\n",
       "      <th>2</th>\n",
       "      <td>15215</td>\n",
       "      <td>20733.0</td>\n",
       "      <td>Churchton</td>\n",
       "      <td>MD</td>\n",
       "      <td>1.641542e+12</td>\n",
       "      <td>2.0</td>\n",
       "      <td>3.0</td>\n",
       "      <td>1530.0</td>\n",
       "      <td>SINGLE_FAMILY</td>\n",
       "      <td>RECENTLY_SOLD</td>\n",
       "      <td>4791.60</td>\n",
       "      <td>sqft</td>\n",
       "      <td>1109 Wildwood Ln, Churchton, MD 20733</td>\n",
       "    </tr>\n",
       "    <tr>\n",
       "      <th>3</th>\n",
       "      <td>20235</td>\n",
       "      <td>33064.0</td>\n",
       "      <td>Pompano Beach</td>\n",
       "      <td>FL</td>\n",
       "      <td>1.641370e+12</td>\n",
       "      <td>1.0</td>\n",
       "      <td>3.0</td>\n",
       "      <td>744.0</td>\n",
       "      <td>SINGLE_FAMILY</td>\n",
       "      <td>RECENTLY_SOLD</td>\n",
       "      <td>6120.00</td>\n",
       "      <td>sqft</td>\n",
       "      <td>3130 NE 12th Ave, Pompano Beach, FL 33064</td>\n",
       "    </tr>\n",
       "    <tr>\n",
       "      <th>4</th>\n",
       "      <td>13810</td>\n",
       "      <td>6239.0</td>\n",
       "      <td>Killingly</td>\n",
       "      <td>CT</td>\n",
       "      <td>1.640851e+12</td>\n",
       "      <td>3.0</td>\n",
       "      <td>6.0</td>\n",
       "      <td>4166.0</td>\n",
       "      <td>SINGLE_FAMILY</td>\n",
       "      <td>RECENTLY_SOLD</td>\n",
       "      <td>37.00</td>\n",
       "      <td>sqft</td>\n",
       "      <td>235 Ross Rd, Killingly, CT 06239</td>\n",
       "    </tr>\n",
       "  </tbody>\n",
       "</table>\n",
       "</div>"
      ],
      "text/plain": [
       "      id  zipcode           city state      dateSold  bathrooms  bedrooms  \\\n",
       "0  22805  19970.0     Ocean View    DE  1.641283e+12        4.0       5.0   \n",
       "1  18392  27704.0         Durham    NC  1.641542e+12        3.0       4.0   \n",
       "2  15215  20733.0      Churchton    MD  1.641542e+12        2.0       3.0   \n",
       "3  20235  33064.0  Pompano Beach    FL  1.641370e+12        1.0       3.0   \n",
       "4  13810   6239.0      Killingly    CT  1.640851e+12        3.0       6.0   \n",
       "\n",
       "   livingArea       homeType     homeStatus   lotArea lotUnit  \\\n",
       "0      4100.0  SINGLE_FAMILY  RECENTLY_SOLD  10454.40    sqft   \n",
       "1      2055.0  SINGLE_FAMILY  RECENTLY_SOLD      0.29   acres   \n",
       "2      1530.0  SINGLE_FAMILY  RECENTLY_SOLD   4791.60    sqft   \n",
       "3       744.0  SINGLE_FAMILY  RECENTLY_SOLD   6120.00    sqft   \n",
       "4      4166.0  SINGLE_FAMILY  RECENTLY_SOLD     37.00    sqft   \n",
       "\n",
       "                                         address  \n",
       "0  37150 Lord Baltimore Ln, Ocean View, DE 19970  \n",
       "1             2011 Woodview Dr, Durham, NC 27704  \n",
       "2          1109 Wildwood Ln, Churchton, MD 20733  \n",
       "3      3130 NE 12th Ave, Pompano Beach, FL 33064  \n",
       "4               235 Ross Rd, Killingly, CT 06239  "
      ]
     },
     "execution_count": 4,
     "metadata": {},
     "output_type": "execute_result"
    }
   ],
   "source": [
    "#Show the first 6 rows.\n",
    "test.head()"
   ]
  },
  {
   "cell_type": "code",
   "execution_count": 7,
   "id": "0089c6a9",
   "metadata": {},
   "outputs": [
    {
     "data": {
      "text/plain": [
       "Index(['id', 'zipcode', 'city', 'state', 'dateSold', 'bathrooms', 'bedrooms',\n",
       "       'livingArea', 'homeType', 'homeStatus', 'lotArea', 'lotUnit', 'address',\n",
       "       'price'],\n",
       "      dtype='object')"
      ]
     },
     "execution_count": 7,
     "metadata": {},
     "output_type": "execute_result"
    }
   ],
   "source": [
    "#List the columns in our data\n",
    "train.columns"
   ]
  },
  {
   "cell_type": "markdown",
   "id": "a43ccf8f",
   "metadata": {},
   "source": [
    "Now we can see the top 5 most common values in each column."
   ]
  },
  {
   "cell_type": "code",
   "execution_count": 11,
   "id": "498f303f",
   "metadata": {},
   "outputs": [
    {
     "name": "stdout",
     "output_type": "stream",
     "text": [
      "id\n",
      "20479    1\n",
      "7329     1\n",
      "18029    1\n",
      "18414    1\n",
      "8249     1\n",
      "Name: id, dtype: int64\n",
      "\n",
      "zipcode\n",
      "82001.0    103\n",
      "82009.0     68\n",
      "99504.0     62\n",
      "99577.0     60\n",
      "83709.0     56\n",
      "Name: zipcode, dtype: int64\n",
      "\n",
      "city\n",
      "Anchorage       318\n",
      "Louisville      224\n",
      "Cheyenne        205\n",
      "Las Vegas       199\n",
      "Indianapolis    198\n",
      "Name: city, dtype: int64\n",
      "\n",
      "state\n",
      "CT    938\n",
      "IN    885\n",
      "GA    862\n",
      "DE    845\n",
      "IA    832\n",
      "Name: state, dtype: int64\n",
      "\n",
      "dateSold\n",
      "1.640851e+12    4724\n",
      "1.641542e+12    3566\n",
      "1.641456e+12    2444\n",
      "1.641370e+12    1870\n",
      "1.640765e+12    1735\n",
      "Name: dateSold, dtype: int64\n",
      "\n",
      "bathrooms\n",
      "2.0    10563\n",
      "3.0     6628\n",
      "1.0     4018\n",
      "4.0     1643\n",
      "5.0      294\n",
      "Name: bathrooms, dtype: int64\n",
      "\n",
      "bedrooms\n",
      "3.0    11286\n",
      "4.0     5751\n",
      "2.0     4161\n",
      "5.0     1309\n",
      "1.0      630\n",
      "Name: bedrooms, dtype: int64\n",
      "\n",
      "livingArea\n",
      "1200.000000    150\n",
      "1954.681419    117\n",
      "1800.000000    107\n",
      "960.000000      96\n",
      "1400.000000     95\n",
      "Name: livingArea, dtype: int64\n",
      "\n",
      "homeType\n",
      "SINGLE_FAMILY    19067\n",
      "CONDO             2117\n",
      "TOWNHOUSE         1922\n",
      "MULTI_FAMILY       528\n",
      "Name: homeType, dtype: int64\n",
      "\n",
      "homeStatus\n",
      "RECENTLY_SOLD    23148\n",
      "PENDING            486\n",
      "Name: homeStatus, dtype: int64\n",
      "\n",
      "lotArea\n",
      "0.00       4372\n",
      "7405.20     426\n",
      "8712.00     401\n",
      "6534.00     363\n",
      "0.25        354\n",
      "Name: lotArea, dtype: int64\n",
      "\n",
      "lotUnit\n",
      "sqft     13872\n",
      "acres     9762\n",
      "Name: lotUnit, dtype: int64\n",
      "\n",
      "address\n",
      "15 W Camden Wyoming Ave, Wyoming, DE 19934      4\n",
      "82 W Delaware Canal Ct, Middletown, DE 19709    4\n",
      "2764 Hickory Hill Ct, Dubuque, IA 52001         3\n",
      "238 E 84th St APT 5C, New York, NY 10028        3\n",
      "210 Effendi Dr, Middletown, DE 19709            3\n",
      "Name: address, dtype: int64\n",
      "\n",
      "price\n",
      "250000.0    199\n",
      "350000.0    193\n",
      "300000.0    161\n",
      "325000.0    153\n",
      "200000.0    150\n",
      "Name: price, dtype: int64\n",
      "\n"
     ]
    }
   ],
   "source": [
    "for column in train.columns:\n",
    "    print(column)\n",
    "    #value_counts counts how times something appears many and n largest gets the top 5 largest values.\n",
    "    print(train[column].value_counts().nlargest(5))\n",
    "    print()"
   ]
  },
  {
   "cell_type": "markdown",
   "id": "7b22875d",
   "metadata": {},
   "source": [
    "Important things to note:\n",
    "- State, city, # of bedrooms and bathrooms, living area, and home type will probably be the most important categories to include.\n",
    "\n",
    "- Deal with zipcode later (edit this later).\n",
    "- Date sold might not be helpful here. These houses should be sold around the same time.\n",
    "- Some houses haven't even been sold yet. This can skew the data.\n",
    "- Only 4 types of homes.\n",
    "- 0 lot area for condos and townhouses. \n",
    "- Some of the loat area is measured in sqft while others are measured in acres. \n",
    "- The address is too specific."
   ]
  },
  {
   "cell_type": "markdown",
   "id": "f66aad1e",
   "metadata": {},
   "source": [
    "First we will get rid of the houses that haven't been sold yet. "
   ]
  },
  {
   "cell_type": "code",
   "execution_count": 14,
   "id": "fc1b0613",
   "metadata": {},
   "outputs": [
    {
     "data": {
      "text/html": [
       "<div>\n",
       "<style scoped>\n",
       "    .dataframe tbody tr th:only-of-type {\n",
       "        vertical-align: middle;\n",
       "    }\n",
       "\n",
       "    .dataframe tbody tr th {\n",
       "        vertical-align: top;\n",
       "    }\n",
       "\n",
       "    .dataframe thead th {\n",
       "        text-align: right;\n",
       "    }\n",
       "</style>\n",
       "<table border=\"1\" class=\"dataframe\">\n",
       "  <thead>\n",
       "    <tr style=\"text-align: right;\">\n",
       "      <th></th>\n",
       "      <th>id</th>\n",
       "      <th>zipcode</th>\n",
       "      <th>city</th>\n",
       "      <th>state</th>\n",
       "      <th>dateSold</th>\n",
       "      <th>bathrooms</th>\n",
       "      <th>bedrooms</th>\n",
       "      <th>livingArea</th>\n",
       "      <th>homeType</th>\n",
       "      <th>lotArea</th>\n",
       "      <th>lotUnit</th>\n",
       "      <th>address</th>\n",
       "      <th>price</th>\n",
       "    </tr>\n",
       "  </thead>\n",
       "  <tbody>\n",
       "    <tr>\n",
       "      <th>0</th>\n",
       "      <td>20479</td>\n",
       "      <td>76247.0</td>\n",
       "      <td>Justin</td>\n",
       "      <td>TX</td>\n",
       "      <td>1.641456e+12</td>\n",
       "      <td>3.0</td>\n",
       "      <td>4.0</td>\n",
       "      <td>3078.0</td>\n",
       "      <td>SINGLE_FAMILY</td>\n",
       "      <td>7492.32</td>\n",
       "      <td>sqft</td>\n",
       "      <td>1937 Caddo Springs Dr, Justin, TX 76247</td>\n",
       "      <td>358100.0</td>\n",
       "    </tr>\n",
       "    <tr>\n",
       "      <th>2</th>\n",
       "      <td>9816</td>\n",
       "      <td>85340.0</td>\n",
       "      <td>Litchfield Park</td>\n",
       "      <td>AZ</td>\n",
       "      <td>1.641370e+12</td>\n",
       "      <td>5.0</td>\n",
       "      <td>5.0</td>\n",
       "      <td>3722.0</td>\n",
       "      <td>SINGLE_FAMILY</td>\n",
       "      <td>6577.56</td>\n",
       "      <td>sqft</td>\n",
       "      <td>14584 W Hidden Terrace Loop, Litchfield Park, ...</td>\n",
       "      <td>660000.0</td>\n",
       "    </tr>\n",
       "    <tr>\n",
       "      <th>3</th>\n",
       "      <td>4479</td>\n",
       "      <td>99507.0</td>\n",
       "      <td>Anchorage</td>\n",
       "      <td>AK</td>\n",
       "      <td>1.641370e+12</td>\n",
       "      <td>2.0</td>\n",
       "      <td>3.0</td>\n",
       "      <td>1388.0</td>\n",
       "      <td>CONDO</td>\n",
       "      <td>0.00</td>\n",
       "      <td>sqft</td>\n",
       "      <td>2903 Suncatcher Ct, Anchorage, AK 99507</td>\n",
       "      <td>232500.0</td>\n",
       "    </tr>\n",
       "    <tr>\n",
       "      <th>4</th>\n",
       "      <td>180</td>\n",
       "      <td>3901.0</td>\n",
       "      <td>Berwick</td>\n",
       "      <td>ME</td>\n",
       "      <td>1.640905e+12</td>\n",
       "      <td>4.0</td>\n",
       "      <td>3.0</td>\n",
       "      <td>2972.0</td>\n",
       "      <td>SINGLE_FAMILY</td>\n",
       "      <td>1.83</td>\n",
       "      <td>acres</td>\n",
       "      <td>32 Tyler Ln, Berwick, ME 03901</td>\n",
       "      <td>551900.0</td>\n",
       "    </tr>\n",
       "    <tr>\n",
       "      <th>5</th>\n",
       "      <td>21279</td>\n",
       "      <td>80241.0</td>\n",
       "      <td>Thornton</td>\n",
       "      <td>CO</td>\n",
       "      <td>1.640851e+12</td>\n",
       "      <td>3.0</td>\n",
       "      <td>2.0</td>\n",
       "      <td>1926.0</td>\n",
       "      <td>TOWNHOUSE</td>\n",
       "      <td>0.00</td>\n",
       "      <td>sqft</td>\n",
       "      <td>1284 E 130th Ave UNIT A, Thornton, CO 80241</td>\n",
       "      <td>435000.0</td>\n",
       "    </tr>\n",
       "  </tbody>\n",
       "</table>\n",
       "</div>"
      ],
      "text/plain": [
       "      id  zipcode             city state      dateSold  bathrooms  bedrooms  \\\n",
       "0  20479  76247.0           Justin    TX  1.641456e+12        3.0       4.0   \n",
       "2   9816  85340.0  Litchfield Park    AZ  1.641370e+12        5.0       5.0   \n",
       "3   4479  99507.0        Anchorage    AK  1.641370e+12        2.0       3.0   \n",
       "4    180   3901.0          Berwick    ME  1.640905e+12        4.0       3.0   \n",
       "5  21279  80241.0         Thornton    CO  1.640851e+12        3.0       2.0   \n",
       "\n",
       "   livingArea       homeType  lotArea lotUnit  \\\n",
       "0      3078.0  SINGLE_FAMILY  7492.32    sqft   \n",
       "2      3722.0  SINGLE_FAMILY  6577.56    sqft   \n",
       "3      1388.0          CONDO     0.00    sqft   \n",
       "4      2972.0  SINGLE_FAMILY     1.83   acres   \n",
       "5      1926.0      TOWNHOUSE     0.00    sqft   \n",
       "\n",
       "                                             address     price  \n",
       "0            1937 Caddo Springs Dr, Justin, TX 76247  358100.0  \n",
       "2  14584 W Hidden Terrace Loop, Litchfield Park, ...  660000.0  \n",
       "3            2903 Suncatcher Ct, Anchorage, AK 99507  232500.0  \n",
       "4                     32 Tyler Ln, Berwick, ME 03901  551900.0  \n",
       "5        1284 E 130th Ave UNIT A, Thornton, CO 80241  435000.0  "
      ]
     },
     "execution_count": 14,
     "metadata": {},
     "output_type": "execute_result"
    }
   ],
   "source": [
    "#Make a copy of the original data but exclude unsold houses.\n",
    "\n",
    "train_only_sold = train[train['homeStatus'] == 'RECENTLY_SOLD'].copy()\n",
    "\n",
    "#Now drop home status column. This column is unnecessary.\n",
    "#Note: axis = 1 is for columns. axis = 0 is for rows.\n",
    "train_only_sold = train_only_sold.drop('homeStatus', axis = 1)\n",
    "train_only_sold.head()"
   ]
  },
  {
   "cell_type": "markdown",
   "id": "d6e74029",
   "metadata": {},
   "source": [
    "Nest we double check the date sold column. If these dates are close enough, then it won't be necessary to include a timeline."
   ]
  },
  {
   "cell_type": "code",
   "execution_count": 15,
   "id": "233714f2",
   "metadata": {},
   "outputs": [
    {
     "data": {
      "text/plain": [
       "(array([ 120.,   32.,  226.,   79.,  387., 1044., 1618., 1498., 8309.,\n",
       "        9835.]),\n",
       " array([1.6373088e+12, 1.6377408e+12, 1.6381728e+12, 1.6386048e+12,\n",
       "        1.6390368e+12, 1.6394688e+12, 1.6399008e+12, 1.6403328e+12,\n",
       "        1.6407648e+12, 1.6411968e+12, 1.6416288e+12]),\n",
       " <BarContainer object of 10 artists>)"
      ]
     },
     "execution_count": 15,
     "metadata": {},
     "output_type": "execute_result"
    },
    {
     "data": {
      "image/png": "[encoded data removed]",
      "text/plain": [
       "<Figure size 640x480 with 1 Axes>"
      ]
     },
     "metadata": {},
     "output_type": "display_data"
    }
   ],
   "source": [
    "plt.hist(train_only_sold['dateSold'])"
   ]
  },
  {
   "cell_type": "markdown",
   "id": "5b52586a",
   "metadata": {},
   "source": [
    "From this histogram, we can see that these houses were sold around the same time. Therefore, the date won't effect the prices of the houses. We can drop this column as well. "
   ]
  },
  {
   "cell_type": "code",
   "execution_count": 16,
   "id": "63f9cb07",
   "metadata": {},
   "outputs": [
    {
     "data": {
      "text/html": [
       "<div>\n",
       "<style scoped>\n",
       "    .dataframe tbody tr th:only-of-type {\n",
       "        vertical-align: middle;\n",
       "    }\n",
       "\n",
       "    .dataframe tbody tr th {\n",
       "        vertical-align: top;\n",
       "    }\n",
       "\n",
       "    .dataframe thead th {\n",
       "        text-align: right;\n",
       "    }\n",
       "</style>\n",
       "<table border=\"1\" class=\"dataframe\">\n",
       "  <thead>\n",
       "    <tr style=\"text-align: right;\">\n",
       "      <th></th>\n",
       "      <th>id</th>\n",
       "      <th>zipcode</th>\n",
       "      <th>city</th>\n",
       "      <th>state</th>\n",
       "      <th>bathrooms</th>\n",
       "      <th>bedrooms</th>\n",
       "      <th>livingArea</th>\n",
       "      <th>homeType</th>\n",
       "      <th>lotArea</th>\n",
       "      <th>lotUnit</th>\n",
       "      <th>address</th>\n",
       "      <th>price</th>\n",
       "    </tr>\n",
       "  </thead>\n",
       "  <tbody>\n",
       "    <tr>\n",
       "      <th>0</th>\n",
       "      <td>20479</td>\n",
       "      <td>76247.0</td>\n",
       "      <td>Justin</td>\n",
       "      <td>TX</td>\n",
       "      <td>3.0</td>\n",
       "      <td>4.0</td>\n",
       "      <td>3078.0</td>\n",
       "      <td>SINGLE_FAMILY</td>\n",
       "      <td>7492.32</td>\n",
       "      <td>sqft</td>\n",
       "      <td>1937 Caddo Springs Dr, Justin, TX 76247</td>\n",
       "      <td>358100.0</td>\n",
       "    </tr>\n",
       "    <tr>\n",
       "      <th>2</th>\n",
       "      <td>9816</td>\n",
       "      <td>85340.0</td>\n",
       "      <td>Litchfield Park</td>\n",
       "      <td>AZ</td>\n",
       "      <td>5.0</td>\n",
       "      <td>5.0</td>\n",
       "      <td>3722.0</td>\n",
       "      <td>SINGLE_FAMILY</td>\n",
       "      <td>6577.56</td>\n",
       "      <td>sqft</td>\n",
       "      <td>14584 W Hidden Terrace Loop, Litchfield Park, ...</td>\n",
       "      <td>660000.0</td>\n",
       "    </tr>\n",
       "    <tr>\n",
       "      <th>3</th>\n",
       "      <td>4479</td>\n",
       "      <td>99507.0</td>\n",
       "      <td>Anchorage</td>\n",
       "      <td>AK</td>\n",
       "      <td>2.0</td>\n",
       "      <td>3.0</td>\n",
       "      <td>1388.0</td>\n",
       "      <td>CONDO</td>\n",
       "      <td>0.00</td>\n",
       "      <td>sqft</td>\n",
       "      <td>2903 Suncatcher Ct, Anchorage, AK 99507</td>\n",
       "      <td>232500.0</td>\n",
       "    </tr>\n",
       "    <tr>\n",
       "      <th>4</th>\n",
       "      <td>180</td>\n",
       "      <td>3901.0</td>\n",
       "      <td>Berwick</td>\n",
       "      <td>ME</td>\n",
       "      <td>4.0</td>\n",
       "      <td>3.0</td>\n",
       "      <td>2972.0</td>\n",
       "      <td>SINGLE_FAMILY</td>\n",
       "      <td>1.83</td>\n",
       "      <td>acres</td>\n",
       "      <td>32 Tyler Ln, Berwick, ME 03901</td>\n",
       "      <td>551900.0</td>\n",
       "    </tr>\n",
       "    <tr>\n",
       "      <th>5</th>\n",
       "      <td>21279</td>\n",
       "      <td>80241.0</td>\n",
       "      <td>Thornton</td>\n",
       "      <td>CO</td>\n",
       "      <td>3.0</td>\n",
       "      <td>2.0</td>\n",
       "      <td>1926.0</td>\n",
       "      <td>TOWNHOUSE</td>\n",
       "      <td>0.00</td>\n",
       "      <td>sqft</td>\n",
       "      <td>1284 E 130th Ave UNIT A, Thornton, CO 80241</td>\n",
       "      <td>435000.0</td>\n",
       "    </tr>\n",
       "  </tbody>\n",
       "</table>\n",
       "</div>"
      ],
      "text/plain": [
       "      id  zipcode             city state  bathrooms  bedrooms  livingArea  \\\n",
       "0  20479  76247.0           Justin    TX        3.0       4.0      3078.0   \n",
       "2   9816  85340.0  Litchfield Park    AZ        5.0       5.0      3722.0   \n",
       "3   4479  99507.0        Anchorage    AK        2.0       3.0      1388.0   \n",
       "4    180   3901.0          Berwick    ME        4.0       3.0      2972.0   \n",
       "5  21279  80241.0         Thornton    CO        3.0       2.0      1926.0   \n",
       "\n",
       "        homeType  lotArea lotUnit  \\\n",
       "0  SINGLE_FAMILY  7492.32    sqft   \n",
       "2  SINGLE_FAMILY  6577.56    sqft   \n",
       "3          CONDO     0.00    sqft   \n",
       "4  SINGLE_FAMILY     1.83   acres   \n",
       "5      TOWNHOUSE     0.00    sqft   \n",
       "\n",
       "                                             address     price  \n",
       "0            1937 Caddo Springs Dr, Justin, TX 76247  358100.0  \n",
       "2  14584 W Hidden Terrace Loop, Litchfield Park, ...  660000.0  \n",
       "3            2903 Suncatcher Ct, Anchorage, AK 99507  232500.0  \n",
       "4                     32 Tyler Ln, Berwick, ME 03901  551900.0  \n",
       "5        1284 E 130th Ave UNIT A, Thornton, CO 80241  435000.0  "
      ]
     },
     "execution_count": 16,
     "metadata": {},
     "output_type": "execute_result"
    }
   ],
   "source": [
    "#Create another copy of the data.\n",
    "\n",
    "train_without_date = train_only_sold.drop('dateSold', axis = 1)\n",
    "\n",
    "train_without_date.head()"
   ]
  },
  {
   "cell_type": "markdown",
   "id": "b46b97f2",
   "metadata": {},
   "source": [
    "Since the address is too specific, we will also drop this column as well. "
   ]
  },
  {
   "cell_type": "code",
   "execution_count": 17,
   "id": "7269bdf8",
   "metadata": {},
   "outputs": [
    {
     "data": {
      "text/html": [
       "<div>\n",
       "<style scoped>\n",
       "    .dataframe tbody tr th:only-of-type {\n",
       "        vertical-align: middle;\n",
       "    }\n",
       "\n",
       "    .dataframe tbody tr th {\n",
       "        vertical-align: top;\n",
       "    }\n",
       "\n",
       "    .dataframe thead th {\n",
       "        text-align: right;\n",
       "    }\n",
       "</style>\n",
       "<table border=\"1\" class=\"dataframe\">\n",
       "  <thead>\n",
       "    <tr style=\"text-align: right;\">\n",
       "      <th></th>\n",
       "      <th>id</th>\n",
       "      <th>zipcode</th>\n",
       "      <th>city</th>\n",
       "      <th>state</th>\n",
       "      <th>bathrooms</th>\n",
       "      <th>bedrooms</th>\n",
       "      <th>livingArea</th>\n",
       "      <th>homeType</th>\n",
       "      <th>lotArea</th>\n",
       "      <th>lotUnit</th>\n",
       "      <th>price</th>\n",
       "    </tr>\n",
       "  </thead>\n",
       "  <tbody>\n",
       "    <tr>\n",
       "      <th>0</th>\n",
       "      <td>20479</td>\n",
       "      <td>76247.0</td>\n",
       "      <td>Justin</td>\n",
       "      <td>TX</td>\n",
       "      <td>3.0</td>\n",
       "      <td>4.0</td>\n",
       "      <td>3078.0</td>\n",
       "      <td>SINGLE_FAMILY</td>\n",
       "      <td>7492.32</td>\n",
       "      <td>sqft</td>\n",
       "      <td>358100.0</td>\n",
       "    </tr>\n",
       "    <tr>\n",
       "      <th>2</th>\n",
       "      <td>9816</td>\n",
       "      <td>85340.0</td>\n",
       "      <td>Litchfield Park</td>\n",
       "      <td>AZ</td>\n",
       "      <td>5.0</td>\n",
       "      <td>5.0</td>\n",
       "      <td>3722.0</td>\n",
       "      <td>SINGLE_FAMILY</td>\n",
       "      <td>6577.56</td>\n",
       "      <td>sqft</td>\n",
       "      <td>660000.0</td>\n",
       "    </tr>\n",
       "    <tr>\n",
       "      <th>3</th>\n",
       "      <td>4479</td>\n",
       "      <td>99507.0</td>\n",
       "      <td>Anchorage</td>\n",
       "      <td>AK</td>\n",
       "      <td>2.0</td>\n",
       "      <td>3.0</td>\n",
       "      <td>1388.0</td>\n",
       "      <td>CONDO</td>\n",
       "      <td>0.00</td>\n",
       "      <td>sqft</td>\n",
       "      <td>232500.0</td>\n",
       "    </tr>\n",
       "    <tr>\n",
       "      <th>4</th>\n",
       "      <td>180</td>\n",
       "      <td>3901.0</td>\n",
       "      <td>Berwick</td>\n",
       "      <td>ME</td>\n",
       "      <td>4.0</td>\n",
       "      <td>3.0</td>\n",
       "      <td>2972.0</td>\n",
       "      <td>SINGLE_FAMILY</td>\n",
       "      <td>1.83</td>\n",
       "      <td>acres</td>\n",
       "      <td>551900.0</td>\n",
       "    </tr>\n",
       "    <tr>\n",
       "      <th>5</th>\n",
       "      <td>21279</td>\n",
       "      <td>80241.0</td>\n",
       "      <td>Thornton</td>\n",
       "      <td>CO</td>\n",
       "      <td>3.0</td>\n",
       "      <td>2.0</td>\n",
       "      <td>1926.0</td>\n",
       "      <td>TOWNHOUSE</td>\n",
       "      <td>0.00</td>\n",
       "      <td>sqft</td>\n",
       "      <td>435000.0</td>\n",
       "    </tr>\n",
       "  </tbody>\n",
       "</table>\n",
       "</div>"
      ],
      "text/plain": [
       "      id  zipcode             city state  bathrooms  bedrooms  livingArea  \\\n",
       "0  20479  76247.0           Justin    TX        3.0       4.0      3078.0   \n",
       "2   9816  85340.0  Litchfield Park    AZ        5.0       5.0      3722.0   \n",
       "3   4479  99507.0        Anchorage    AK        2.0       3.0      1388.0   \n",
       "4    180   3901.0          Berwick    ME        4.0       3.0      2972.0   \n",
       "5  21279  80241.0         Thornton    CO        3.0       2.0      1926.0   \n",
       "\n",
       "        homeType  lotArea lotUnit     price  \n",
       "0  SINGLE_FAMILY  7492.32    sqft  358100.0  \n",
       "2  SINGLE_FAMILY  6577.56    sqft  660000.0  \n",
       "3          CONDO     0.00    sqft  232500.0  \n",
       "4  SINGLE_FAMILY     1.83   acres  551900.0  \n",
       "5      TOWNHOUSE     0.00    sqft  435000.0  "
      ]
     },
     "execution_count": 17,
     "metadata": {},
     "output_type": "execute_result"
    }
   ],
   "source": [
    "train_without_address = train_without_date.drop('address', axis = 1)\n",
    "\n",
    "train_without_address.head()"
   ]
  },
  {
   "cell_type": "markdown",
   "id": "6dcd02ce",
   "metadata": {},
   "source": [
    "To clean up the data further, we can drop the id too."
   ]
  },
  {
   "cell_type": "code",
   "execution_count": 18,
   "id": "fb9e25e8",
   "metadata": {},
   "outputs": [
    {
     "data": {
      "text/html": [
       "<div>\n",
       "<style scoped>\n",
       "    .dataframe tbody tr th:only-of-type {\n",
       "        vertical-align: middle;\n",
       "    }\n",
       "\n",
       "    .dataframe tbody tr th {\n",
       "        vertical-align: top;\n",
       "    }\n",
       "\n",
       "    .dataframe thead th {\n",
       "        text-align: right;\n",
       "    }\n",
       "</style>\n",
       "<table border=\"1\" class=\"dataframe\">\n",
       "  <thead>\n",
       "    <tr style=\"text-align: right;\">\n",
       "      <th></th>\n",
       "      <th>zipcode</th>\n",
       "      <th>city</th>\n",
       "      <th>state</th>\n",
       "      <th>bathrooms</th>\n",
       "      <th>bedrooms</th>\n",
       "      <th>livingArea</th>\n",
       "      <th>homeType</th>\n",
       "      <th>lotArea</th>\n",
       "      <th>lotUnit</th>\n",
       "      <th>price</th>\n",
       "    </tr>\n",
       "  </thead>\n",
       "  <tbody>\n",
       "    <tr>\n",
       "      <th>0</th>\n",
       "      <td>76247.0</td>\n",
       "      <td>Justin</td>\n",
       "      <td>TX</td>\n",
       "      <td>3.0</td>\n",
       "      <td>4.0</td>\n",
       "      <td>3078.0</td>\n",
       "      <td>SINGLE_FAMILY</td>\n",
       "      <td>7492.32</td>\n",
       "      <td>sqft</td>\n",
       "      <td>358100.0</td>\n",
       "    </tr>\n",
       "    <tr>\n",
       "      <th>2</th>\n",
       "      <td>85340.0</td>\n",
       "      <td>Litchfield Park</td>\n",
       "      <td>AZ</td>\n",
       "      <td>5.0</td>\n",
       "      <td>5.0</td>\n",
       "      <td>3722.0</td>\n",
       "      <td>SINGLE_FAMILY</td>\n",
       "      <td>6577.56</td>\n",
       "      <td>sqft</td>\n",
       "      <td>660000.0</td>\n",
       "    </tr>\n",
       "    <tr>\n",
       "      <th>3</th>\n",
       "      <td>99507.0</td>\n",
       "      <td>Anchorage</td>\n",
       "      <td>AK</td>\n",
       "      <td>2.0</td>\n",
       "      <td>3.0</td>\n",
       "      <td>1388.0</td>\n",
       "      <td>CONDO</td>\n",
       "      <td>0.00</td>\n",
       "      <td>sqft</td>\n",
       "      <td>232500.0</td>\n",
       "    </tr>\n",
       "    <tr>\n",
       "      <th>4</th>\n",
       "      <td>3901.0</td>\n",
       "      <td>Berwick</td>\n",
       "      <td>ME</td>\n",
       "      <td>4.0</td>\n",
       "      <td>3.0</td>\n",
       "      <td>2972.0</td>\n",
       "      <td>SINGLE_FAMILY</td>\n",
       "      <td>1.83</td>\n",
       "      <td>acres</td>\n",
       "      <td>551900.0</td>\n",
       "    </tr>\n",
       "    <tr>\n",
       "      <th>5</th>\n",
       "      <td>80241.0</td>\n",
       "      <td>Thornton</td>\n",
       "      <td>CO</td>\n",
       "      <td>3.0</td>\n",
       "      <td>2.0</td>\n",
       "      <td>1926.0</td>\n",
       "      <td>TOWNHOUSE</td>\n",
       "      <td>0.00</td>\n",
       "      <td>sqft</td>\n",
       "      <td>435000.0</td>\n",
       "    </tr>\n",
       "  </tbody>\n",
       "</table>\n",
       "</div>"
      ],
      "text/plain": [
       "   zipcode             city state  bathrooms  bedrooms  livingArea  \\\n",
       "0  76247.0           Justin    TX        3.0       4.0      3078.0   \n",
       "2  85340.0  Litchfield Park    AZ        5.0       5.0      3722.0   \n",
       "3  99507.0        Anchorage    AK        2.0       3.0      1388.0   \n",
       "4   3901.0          Berwick    ME        4.0       3.0      2972.0   \n",
       "5  80241.0         Thornton    CO        3.0       2.0      1926.0   \n",
       "\n",
       "        homeType  lotArea lotUnit     price  \n",
       "0  SINGLE_FAMILY  7492.32    sqft  358100.0  \n",
       "2  SINGLE_FAMILY  6577.56    sqft  660000.0  \n",
       "3          CONDO     0.00    sqft  232500.0  \n",
       "4  SINGLE_FAMILY     1.83   acres  551900.0  \n",
       "5      TOWNHOUSE     0.00    sqft  435000.0  "
      ]
     },
     "execution_count": 18,
     "metadata": {},
     "output_type": "execute_result"
    }
   ],
   "source": [
    "train_without_id = train_without_address.drop('id', axis=1)\n",
    "\n",
    "train_without_id.head()"
   ]
  },
  {
   "cell_type": "markdown",
   "id": "8908becd",
   "metadata": {},
   "source": [
    "After getting rid of the unnecessary columns, we can graph all of the numerical columns and look at the distribution of the data. "
   ]
  },
  {
   "cell_type": "code",
   "execution_count": 19,
   "id": "a231f2b1",
   "metadata": {},
   "outputs": [
    {
     "data": {
      "image/png": "[encoded data removed]",
      "text/plain": [
       "<Figure size 800x300 with 1 Axes>"
      ]
     },
     "metadata": {},
     "output_type": "display_data"
    },
    {
     "data": {
      "image/png": "[encoded data removed]",
      "text/plain": [
       "<Figure size 800x300 with 1 Axes>"
      ]
     },
     "metadata": {},
     "output_type": "display_data"
    },
    {
     "data": {
      "image/png": "[encoded data removed]",
      "text/plain": [
       "<Figure size 800x300 with 1 Axes>"
      ]
     },
     "metadata": {},
     "output_type": "display_data"
    },
    {
     "data": {
      "image/png": "[encoded data removed]",
      "text/plain": [
       "<Figure size 800x300 with 1 Axes>"
      ]
     },
     "metadata": {},
     "output_type": "display_data"
    },
    {
     "data": {
      "image/png": "[encoded data removed]",
      "text/plain": [
       "<Figure size 800x300 with 1 Axes>"
      ]
     },
     "metadata": {},
     "output_type": "display_data"
    }
   ],
   "source": [
    "numerical_variables = ['bathrooms', 'bedrooms', 'livingArea', 'lotArea', 'price']\n",
    "\n",
    "\n",
    "for variable in numerical_variables:\n",
    "    plt.figure(figsize=(8,3))\n",
    "    plt.title(variable)\n",
    "    plt.hist(train_without_id[variable])\n",
    "    plt.show()"
   ]
  },
  {
   "cell_type": "markdown",
   "id": "67470a45",
   "metadata": {},
   "source": [
    "A lot of these graphs are skewed.\n",
    "- For bathrooms, there seems to be a house with 18 bathrooms. \n",
    "- There also seems to be a house with a huge amount of bedrooms. \n",
    "- The lot area histogram has quite a few conflicting data. Condos and townhouses don't have any lot area and there are 2 different measurements (sqft and acres). "
   ]
  },
  {
   "cell_type": "markdown",
   "id": "ff4c4ac4",
   "metadata": {},
   "source": [
    "Before we deal with the outliers, we have to convert the lot area measurements. Each acre is 43,560 sqft."
   ]
  },
  {
   "cell_type": "code",
   "execution_count": 20,
   "id": "8fc6131d",
   "metadata": {},
   "outputs": [
    {
     "data": {
      "text/html": [
       "<div>\n",
       "<style scoped>\n",
       "    .dataframe tbody tr th:only-of-type {\n",
       "        vertical-align: middle;\n",
       "    }\n",
       "\n",
       "    .dataframe tbody tr th {\n",
       "        vertical-align: top;\n",
       "    }\n",
       "\n",
       "    .dataframe thead th {\n",
       "        text-align: right;\n",
       "    }\n",
       "</style>\n",
       "<table border=\"1\" class=\"dataframe\">\n",
       "  <thead>\n",
       "    <tr style=\"text-align: right;\">\n",
       "      <th></th>\n",
       "      <th>zipcode</th>\n",
       "      <th>city</th>\n",
       "      <th>state</th>\n",
       "      <th>bathrooms</th>\n",
       "      <th>bedrooms</th>\n",
       "      <th>livingArea</th>\n",
       "      <th>homeType</th>\n",
       "      <th>lotArea</th>\n",
       "      <th>price</th>\n",
       "    </tr>\n",
       "  </thead>\n",
       "  <tbody>\n",
       "    <tr>\n",
       "      <th>0</th>\n",
       "      <td>76247.0</td>\n",
       "      <td>Justin</td>\n",
       "      <td>TX</td>\n",
       "      <td>3.0</td>\n",
       "      <td>4.0</td>\n",
       "      <td>3078.0</td>\n",
       "      <td>SINGLE_FAMILY</td>\n",
       "      <td>7492.32</td>\n",
       "      <td>358100.0</td>\n",
       "    </tr>\n",
       "    <tr>\n",
       "      <th>2</th>\n",
       "      <td>85340.0</td>\n",
       "      <td>Litchfield Park</td>\n",
       "      <td>AZ</td>\n",
       "      <td>5.0</td>\n",
       "      <td>5.0</td>\n",
       "      <td>3722.0</td>\n",
       "      <td>SINGLE_FAMILY</td>\n",
       "      <td>6577.56</td>\n",
       "      <td>660000.0</td>\n",
       "    </tr>\n",
       "    <tr>\n",
       "      <th>3</th>\n",
       "      <td>99507.0</td>\n",
       "      <td>Anchorage</td>\n",
       "      <td>AK</td>\n",
       "      <td>2.0</td>\n",
       "      <td>3.0</td>\n",
       "      <td>1388.0</td>\n",
       "      <td>CONDO</td>\n",
       "      <td>0.00</td>\n",
       "      <td>232500.0</td>\n",
       "    </tr>\n",
       "    <tr>\n",
       "      <th>4</th>\n",
       "      <td>3901.0</td>\n",
       "      <td>Berwick</td>\n",
       "      <td>ME</td>\n",
       "      <td>4.0</td>\n",
       "      <td>3.0</td>\n",
       "      <td>2972.0</td>\n",
       "      <td>SINGLE_FAMILY</td>\n",
       "      <td>79714.80</td>\n",
       "      <td>551900.0</td>\n",
       "    </tr>\n",
       "    <tr>\n",
       "      <th>5</th>\n",
       "      <td>80241.0</td>\n",
       "      <td>Thornton</td>\n",
       "      <td>CO</td>\n",
       "      <td>3.0</td>\n",
       "      <td>2.0</td>\n",
       "      <td>1926.0</td>\n",
       "      <td>TOWNHOUSE</td>\n",
       "      <td>0.00</td>\n",
       "      <td>435000.0</td>\n",
       "    </tr>\n",
       "  </tbody>\n",
       "</table>\n",
       "</div>"
      ],
      "text/plain": [
       "   zipcode             city state  bathrooms  bedrooms  livingArea  \\\n",
       "0  76247.0           Justin    TX        3.0       4.0      3078.0   \n",
       "2  85340.0  Litchfield Park    AZ        5.0       5.0      3722.0   \n",
       "3  99507.0        Anchorage    AK        2.0       3.0      1388.0   \n",
       "4   3901.0          Berwick    ME        4.0       3.0      2972.0   \n",
       "5  80241.0         Thornton    CO        3.0       2.0      1926.0   \n",
       "\n",
       "        homeType   lotArea     price  \n",
       "0  SINGLE_FAMILY   7492.32  358100.0  \n",
       "2  SINGLE_FAMILY   6577.56  660000.0  \n",
       "3          CONDO      0.00  232500.0  \n",
       "4  SINGLE_FAMILY  79714.80  551900.0  \n",
       "5      TOWNHOUSE      0.00  435000.0  "
      ]
     },
     "execution_count": 20,
     "metadata": {},
     "output_type": "execute_result"
    }
   ],
   "source": [
    "#This function will convert acres to sqft. \n",
    "def convert_lot_area(row):\n",
    "    if row['lotUnit'] == 'acres':\n",
    "        return row['lotArea'] * 43560\n",
    "    else:\n",
    "        return row['lotArea']\n",
    "\n",
    "#Use .apply() to apply the function to the lot area column in the dataframe.  \n",
    "train_without_id['lotArea'] = train_without_id.apply(convert_lot_area, axis=1)\n",
    "#Afterwards, drop the lot unit since everything is in sqft.\n",
    "train_without_id = train_without_id.drop('lotUnit', axis=1)\n",
    "train_without_id.head()"
   ]
  },
  {
   "cell_type": "code",
   "execution_count": 21,
   "id": "2c66dfd2",
   "metadata": {},
   "outputs": [
    {
     "data": {
      "text/plain": [
       "(array([20525.,  1294.,   502.,   236.,   175.,   205.,    94.,    46.,\n",
       "           37.,    34.]),\n",
       " array([     0.  ,  43429.32,  86858.64, 130287.96, 173717.28, 217146.6 ,\n",
       "        260575.92, 304005.24, 347434.56, 390863.88, 434293.2 ]),\n",
       " <BarContainer object of 10 artists>)"
      ]
     },
     "execution_count": 21,
     "metadata": {},
     "output_type": "execute_result"
    },
    {
     "data": {
      "image/png": "[encoded data removed]",
      "text/plain": [
       "<Figure size 640x480 with 1 Axes>"
      ]
     },
     "metadata": {},
     "output_type": "display_data"
    }
   ],
   "source": [
    "plt.hist(train_without_id['lotArea'])"
   ]
  },
  {
   "cell_type": "markdown",
   "id": "8b171b36",
   "metadata": {},
   "source": [
    "Even after converting the measurements, the data is still skewed. "
   ]
  },
  {
   "cell_type": "markdown",
   "id": "41463b98",
   "metadata": {},
   "source": [
    "# Statistical Data Analysis\n",
    "Now we have to deal with the outliers so that the ML algorithm will be more accurate. "
   ]
  },
  {
   "cell_type": "code",
   "execution_count": 36,
   "id": "deaccf09",
   "metadata": {},
   "outputs": [
    {
     "data": {
      "text/plain": [
       "3.000000        11044\n",
       "4.000000         5636\n",
       "2.000000         4095\n",
       "5.000000         1269\n",
       "1.000000          612\n",
       "6.000000          244\n",
       "3.729905          176\n",
       "7.000000           34\n",
       "8.000000           18\n",
       "9.000000            8\n",
       "10.000000           5\n",
       "14.000000           2\n",
       "12.000000           2\n",
       "15153.000000        1\n",
       "33.000000           1\n",
       "30.000000           1\n",
       "Name: bedrooms, dtype: int64"
      ]
     },
     "execution_count": 36,
     "metadata": {},
     "output_type": "execute_result"
    }
   ],
   "source": [
    "train_without_id['bedrooms'] .value_counts()"
   ]
  },
  {
   "cell_type": "markdown",
   "id": "8e865349",
   "metadata": {},
   "source": [
    "We can see now that there is a house with 15,153 bedrooms! The rest of our houses have no where near that many bedrooms. So we will find the mean and calculate 2 standard deviations from the mean and exclude the houses with the number of bedrooms that are outside of this range. "
   ]
  },
  {
   "cell_type": "code",
   "execution_count": 26,
   "id": "0bd8c03e",
   "metadata": {},
   "outputs": [
    {
     "data": {
      "text/plain": [
       "0        4.0\n",
       "2        5.0\n",
       "3        3.0\n",
       "4        3.0\n",
       "5        2.0\n",
       "        ... \n",
       "23628    3.0\n",
       "23629    3.0\n",
       "23631    3.0\n",
       "23632    2.0\n",
       "23633    2.0\n",
       "Name: bedrooms, Length: 23148, dtype: float64"
      ]
     },
     "execution_count": 26,
     "metadata": {},
     "output_type": "execute_result"
    }
   ],
   "source": [
    "train_without_id['bedrooms']"
   ]
  },
  {
   "cell_type": "code",
   "execution_count": 27,
   "id": "2087a040",
   "metadata": {},
   "outputs": [
    {
     "data": {
      "text/plain": [
       "3.8325325440792666"
      ]
     },
     "execution_count": 27,
     "metadata": {},
     "output_type": "execute_result"
    }
   ],
   "source": [
    "train_without_id['bedrooms'].mean()"
   ]
  },
  {
   "cell_type": "code",
   "execution_count": 30,
   "id": "9cb69521",
   "metadata": {},
   "outputs": [
    {
     "data": {
      "text/plain": [
       "0        0.167467\n",
       "2        1.167467\n",
       "3        0.832533\n",
       "4        0.832533\n",
       "5        1.832533\n",
       "           ...   \n",
       "23628    0.832533\n",
       "23629    0.832533\n",
       "23631    0.832533\n",
       "23632    1.832533\n",
       "23633    1.832533\n",
       "Name: bedrooms, Length: 23148, dtype: float64"
      ]
     },
     "execution_count": 30,
     "metadata": {},
     "output_type": "execute_result"
    }
   ],
   "source": [
    "#Calculate if a house has more or less the amount of bedrooms from the average.\n",
    "distance_from_mean = np.abs(train_without_id['bedrooms'] - train_without_id['bedrooms'].mean())\n",
    "\n",
    "distance_from_mean"
   ]
  },
  {
   "cell_type": "code",
   "execution_count": 40,
   "id": "0661a580",
   "metadata": {},
   "outputs": [
    {
     "data": {
      "text/plain": [
       "199.1599243007334"
      ]
     },
     "execution_count": 40,
     "metadata": {},
     "output_type": "execute_result"
    }
   ],
   "source": [
    "#Calculate the # of bedrooms that is 2 standard deviations from the mean.\n",
    "std_x_3 = train_without_id['bedrooms'].std() * 2\n",
    "\n",
    "std_x_3"
   ]
  },
  {
   "cell_type": "markdown",
   "id": "22497352",
   "metadata": {},
   "source": [
    "We now drop all of the data points outside of this range."
   ]
  },
  {
   "cell_type": "code",
   "execution_count": 41,
   "id": "1d781d8b",
   "metadata": {},
   "outputs": [
    {
     "data": {
      "image/png": "[encoded data removed]",
      "text/plain": [
       "<Figure size 640x480 with 1 Axes>"
      ]
     },
     "metadata": {},
     "output_type": "display_data"
    },
    {
     "data": {
      "text/plain": [
       "(array([6.1200e+02, 0.0000e+00, 0.0000e+00, 4.0950e+03, 0.0000e+00,\n",
       "        0.0000e+00, 1.1044e+04, 0.0000e+00, 1.7600e+02, 5.6360e+03,\n",
       "        0.0000e+00, 0.0000e+00, 1.2690e+03, 0.0000e+00, 0.0000e+00,\n",
       "        2.4400e+02, 0.0000e+00, 0.0000e+00, 3.4000e+01, 0.0000e+00,\n",
       "        0.0000e+00, 1.8000e+01, 0.0000e+00, 0.0000e+00, 0.0000e+00,\n",
       "        8.0000e+00, 0.0000e+00, 0.0000e+00, 5.0000e+00, 0.0000e+00,\n",
       "        0.0000e+00, 0.0000e+00, 0.0000e+00, 0.0000e+00, 2.0000e+00,\n",
       "        0.0000e+00, 0.0000e+00, 0.0000e+00, 0.0000e+00, 0.0000e+00,\n",
       "        2.0000e+00, 0.0000e+00, 0.0000e+00, 0.0000e+00, 0.0000e+00,\n",
       "        0.0000e+00, 0.0000e+00, 0.0000e+00, 0.0000e+00, 0.0000e+00,\n",
       "        0.0000e+00, 0.0000e+00, 0.0000e+00, 0.0000e+00, 0.0000e+00,\n",
       "        0.0000e+00, 0.0000e+00, 0.0000e+00, 0.0000e+00, 0.0000e+00,\n",
       "        0.0000e+00, 0.0000e+00, 0.0000e+00, 0.0000e+00, 0.0000e+00,\n",
       "        0.0000e+00, 0.0000e+00, 0.0000e+00, 0.0000e+00, 0.0000e+00,\n",
       "        0.0000e+00, 0.0000e+00, 0.0000e+00, 0.0000e+00, 0.0000e+00,\n",
       "        0.0000e+00, 0.0000e+00, 0.0000e+00, 0.0000e+00, 0.0000e+00,\n",
       "        0.0000e+00, 0.0000e+00, 0.0000e+00, 0.0000e+00, 0.0000e+00,\n",
       "        0.0000e+00, 0.0000e+00, 0.0000e+00, 0.0000e+00, 0.0000e+00,\n",
       "        1.0000e+00, 0.0000e+00, 0.0000e+00, 0.0000e+00, 0.0000e+00,\n",
       "        0.0000e+00, 0.0000e+00, 0.0000e+00, 0.0000e+00, 1.0000e+00]),\n",
       " array([ 1.  ,  1.32,  1.64,  1.96,  2.28,  2.6 ,  2.92,  3.24,  3.56,\n",
       "         3.88,  4.2 ,  4.52,  4.84,  5.16,  5.48,  5.8 ,  6.12,  6.44,\n",
       "         6.76,  7.08,  7.4 ,  7.72,  8.04,  8.36,  8.68,  9.  ,  9.32,\n",
       "         9.64,  9.96, 10.28, 10.6 , 10.92, 11.24, 11.56, 11.88, 12.2 ,\n",
       "        12.52, 12.84, 13.16, 13.48, 13.8 , 14.12, 14.44, 14.76, 15.08,\n",
       "        15.4 , 15.72, 16.04, 16.36, 16.68, 17.  , 17.32, 17.64, 17.96,\n",
       "        18.28, 18.6 , 18.92, 19.24, 19.56, 19.88, 20.2 , 20.52, 20.84,\n",
       "        21.16, 21.48, 21.8 , 22.12, 22.44, 22.76, 23.08, 23.4 , 23.72,\n",
       "        24.04, 24.36, 24.68, 25.  , 25.32, 25.64, 25.96, 26.28, 26.6 ,\n",
       "        26.92, 27.24, 27.56, 27.88, 28.2 , 28.52, 28.84, 29.16, 29.48,\n",
       "        29.8 , 30.12, 30.44, 30.76, 31.08, 31.4 , 31.72, 32.04, 32.36,\n",
       "        32.68, 33.  ]),\n",
       " <BarContainer object of 100 artists>)"
      ]
     },
     "execution_count": 41,
     "metadata": {},
     "output_type": "execute_result"
    },
    {
     "data": {
      "image/png": "[encoded data removed]",
      "text/plain": [
       "<Figure size 640x480 with 1 Axes>"
      ]
     },
     "metadata": {},
     "output_type": "display_data"
    }
   ],
   "source": [
    "bedrooms_wihtout_outliers = train_without_id[distance_from_mean < std_x_3]['bedrooms']\n",
    "\n",
    "plt.title('bedrooms with outliers')\n",
    "plt.hist(train_without_id['bedrooms'], bins=100)\n",
    "plt.show()\n",
    "\n",
    "plt.title('bedrooms without outliers')\n",
    "plt.hist(bedrooms_wihtout_outliers, bins=100)"
   ]
  },
  {
   "cell_type": "markdown",
   "id": "7c694b14",
   "metadata": {},
   "source": [
    "Playing with Functions."
   ]
  },
  {
   "cell_type": "code",
   "execution_count": 6,
   "id": "a6dda2bd",
   "metadata": {},
   "outputs": [],
   "source": [
    "#Testing recursion\n",
    "#Should return the nth fibonacci number (1, 1, 2, 3, 5, 8, 13, etc)\n",
    "def fibonacci(n):\n",
    "    if n == 1 or n == 0:\n",
    "        return 1\n",
    "    else:\n",
    "        return fibonacci(n - 1) + fibonacci(n - 2)\n"
   ]
  },
  {
   "cell_type": "code",
   "execution_count": 9,
   "id": "a1330fc7",
   "metadata": {},
   "outputs": [
    {
     "data": {
      "text/plain": [
       "10946"
      ]
     },
     "execution_count": 9,
     "metadata": {},
     "output_type": "execute_result"
    }
   ],
   "source": [
    "fibonacci(20)"
   ]
  },
  {
   "cell_type": "markdown",
   "id": "b639a734",
   "metadata": {},
   "source": [
    "Playing with some plotting."
   ]
  },
  {
   "cell_type": "code",
   "execution_count": 15,
   "id": "4b7db1c8",
   "metadata": {},
   "outputs": [],
   "source": [
    "#Playing with plotting\n",
    "\n",
    "x = np.random.normal(size=100)\n",
    "y = np.random.normal(size=100)\n",
    "\n",
    "xp = np.random.normal(loc=2, scale=1.5, size=100)\n",
    "yp = np.random.normal(loc=2, size=100)"
   ]
  },
  {
   "cell_type": "code",
   "execution_count": 13,
   "id": "b319515a",
   "metadata": {},
   "outputs": [
    {
     "data": {
      "text/plain": [
       "(array([ 1.,  3., 11., 15., 20., 23., 11.,  9.,  5.,  2.]),\n",
       " array([-2.70137457, -2.14594308, -1.5905116 , -1.03508011, -0.47964863,\n",
       "         0.07578285,  0.63121434,  1.18664582,  1.74207731,  2.29750879,\n",
       "         2.85294028]),\n",
       " <BarContainer object of 10 artists>)"
      ]
     },
     "execution_count": 13,
     "metadata": {},
     "output_type": "execute_result"
    },
    {
     "data": {
      "image/png": "[encoded data removed]",
      "text/plain": [
       "<Figure size 640x480 with 1 Axes>"
      ]
     },
     "metadata": {},
     "output_type": "display_data"
    }
   ],
   "source": [
    "plt.hist(x)\n",
    "plt.hist(y)"
   ]
  },
  {
   "cell_type": "code",
   "execution_count": 23,
   "id": "7f53b053",
   "metadata": {},
   "outputs": [
    {
     "data": {
      "text/plain": [
       "Text(0.5, 0, 'X axis')"
      ]
     },
     "execution_count": 23,
     "metadata": {},
     "output_type": "execute_result"
    },
    {
     "data": {
      "image/png": "[encoded data removed]",
      "text/plain": [
       "<Figure size 640x480 with 1 Axes>"
      ]
     },
     "metadata": {},
     "output_type": "display_data"
    }
   ],
   "source": [
    "plt.scatter(x,y)\n",
    "plt.scatter(xp, yp, c= 'red')\n",
    "plt.title('Red vs Blue', fontdict={'size':40})\n",
    "plt.ylabel('Y axis')\n",
    "plt.xlabel('X axis')"
   ]
  },
  {
   "cell_type": "code",
   "execution_count": null,
   "id": "2319a2c4",
   "metadata": {},
   "outputs": [],
   "source": []
  }
 ],
 "metadata": {
  "kernelspec": {
   "display_name": "Python 3 (ipykernel)",
   "language": "python",
   "name": "python3"
  },
  "language_info": {
   "codemirror_mode": {
    "name": "ipython",
    "version": 3
   },
   "file_extension": ".py",
   "mimetype": "text/x-python",
   "name": "python",
   "nbconvert_exporter": "python",
   "pygments_lexer": "ipython3",
   "version": "3.11.2"
  }
 },
 "nbformat": 4,
 "nbformat_minor": 5
}
